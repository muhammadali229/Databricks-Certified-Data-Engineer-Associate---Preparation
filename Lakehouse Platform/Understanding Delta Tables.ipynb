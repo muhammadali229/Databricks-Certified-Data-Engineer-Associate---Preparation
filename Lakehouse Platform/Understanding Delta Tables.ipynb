{
 "cells": [
  {
   "cell_type": "markdown",
   "metadata": {
    "application/vnd.databricks.v1+cell": {
     "cellMetadata": {},
     "inputWidgets": {},
     "nuid": "212c3fe3-08a2-4778-b7e2-38313b9bfdc9",
     "showTitle": false,
     "title": ""
    }
   },
   "source": [
    "### Creating Delta Lake Tables"
   ]
  },
  {
   "cell_type": "code",
   "execution_count": 0,
   "metadata": {
    "application/vnd.databricks.v1+cell": {
     "cellMetadata": {
      "byteLimit": 2048000,
      "implicitDf": true,
      "rowLimit": 10000
     },
     "inputWidgets": {},
     "nuid": "603a5c66-16d7-456d-b09f-524a5b8d5f7e",
     "showTitle": false,
     "title": ""
    }
   },
   "outputs": [
    {
     "output_type": "display_data",
     "data": {
      "text/html": [
       "<style scoped>\n",
       "  .table-result-container {\n",
       "    max-height: 300px;\n",
       "    overflow: auto;\n",
       "  }\n",
       "  table, th, td {\n",
       "    border: 1px solid black;\n",
       "    border-collapse: collapse;\n",
       "  }\n",
       "  th, td {\n",
       "    padding: 5px;\n",
       "  }\n",
       "  th {\n",
       "    text-align: left;\n",
       "  }\n",
       "</style><div class='table-result-container'><table class='table-result'><thead style='background-color: white'><tr></tr></thead><tbody></tbody></table></div>"
      ]
     },
     "metadata": {
      "application/vnd.databricks.v1+output": {
       "addedWidgets": {},
       "aggData": [],
       "aggError": "",
       "aggOverflow": false,
       "aggSchema": [],
       "aggSeriesLimitReached": false,
       "aggType": "",
       "arguments": {},
       "columnCustomDisplayInfos": {},
       "data": [],
       "datasetInfos": [],
       "dbfsResultPath": null,
       "isJsonSchema": true,
       "metadata": {},
       "overflow": false,
       "plotOptions": {
        "customPlotOptions": {},
        "displayType": "table",
        "pivotAggregation": null,
        "pivotColumns": null,
        "xColumns": null,
        "yColumns": null
       },
       "removedWidgets": [],
       "schema": [],
       "type": "table"
      }
     },
     "output_type": "display_data"
    }
   ],
   "source": [
    "%sql\n",
    "CREATE TABLE employees\n",
    "(\n",
    "    id INT, \n",
    "    name STRING, \n",
    "    salary DOUBLE\n",
    ");"
   ]
  },
  {
   "cell_type": "markdown",
   "metadata": {
    "application/vnd.databricks.v1+cell": {
     "cellMetadata": {},
     "inputWidgets": {},
     "nuid": "e57197ab-1a44-468d-8a43-714443d83d78",
     "showTitle": false,
     "title": ""
    }
   },
   "source": [
    "### Inserting Data"
   ]
  },
  {
   "cell_type": "code",
   "execution_count": 0,
   "metadata": {
    "application/vnd.databricks.v1+cell": {
     "cellMetadata": {
      "byteLimit": 2048000,
      "implicitDf": true,
      "rowLimit": 10000
     },
     "inputWidgets": {},
     "nuid": "be72c068-bac1-4c01-8744-c383d32df712",
     "showTitle": false,
     "title": ""
    }
   },
   "outputs": [
    {
     "output_type": "display_data",
     "data": {
      "text/html": [
       "<style scoped>\n",
       "  .table-result-container {\n",
       "    max-height: 300px;\n",
       "    overflow: auto;\n",
       "  }\n",
       "  table, th, td {\n",
       "    border: 1px solid black;\n",
       "    border-collapse: collapse;\n",
       "  }\n",
       "  th, td {\n",
       "    padding: 5px;\n",
       "  }\n",
       "  th {\n",
       "    text-align: left;\n",
       "  }\n",
       "</style><div class='table-result-container'><table class='table-result'><thead style='background-color: white'><tr><th>num_affected_rows</th><th>num_inserted_rows</th></tr></thead><tbody><tr><td>6</td><td>6</td></tr></tbody></table></div>"
      ]
     },
     "metadata": {
      "application/vnd.databricks.v1+output": {
       "addedWidgets": {},
       "aggData": [],
       "aggError": "",
       "aggOverflow": false,
       "aggSchema": [],
       "aggSeriesLimitReached": false,
       "aggType": "",
       "arguments": {},
       "columnCustomDisplayInfos": {},
       "data": [
        [
         6,
         6
        ]
       ],
       "datasetInfos": [],
       "dbfsResultPath": null,
       "isJsonSchema": true,
       "metadata": {},
       "overflow": false,
       "plotOptions": {
        "customPlotOptions": {},
        "displayType": "table",
        "pivotAggregation": null,
        "pivotColumns": null,
        "xColumns": null,
        "yColumns": null
       },
       "removedWidgets": [],
       "schema": [
        {
         "metadata": "{}",
         "name": "num_affected_rows",
         "type": "\"long\""
        },
        {
         "metadata": "{}",
         "name": "num_inserted_rows",
         "type": "\"long\""
        }
       ],
       "type": "table"
      }
     },
     "output_type": "display_data"
    }
   ],
   "source": [
    "%sql\n",
    "INSERT INTO employees\n",
    "VALUES \n",
    "  (1, \"Adam\", 3500.0),\n",
    "  (2, \"Sarah\", 4020.5),\n",
    "  (3, \"John\", 2999.3),\n",
    "  (4, \"Thomas\", 4000.3),\n",
    "  (5, \"Anna\", 2500.0),\n",
    "  (6, \"Kim\", 6200.3);\n"
   ]
  },
  {
   "cell_type": "markdown",
   "metadata": {
    "application/vnd.databricks.v1+cell": {
     "cellMetadata": {},
     "inputWidgets": {},
     "nuid": "0a5a31e4-b13d-4cf5-89c0-1f41967900c4",
     "showTitle": false,
     "title": ""
    }
   },
   "source": [
    "### Retrieve Records"
   ]
  },
  {
   "cell_type": "code",
   "execution_count": 0,
   "metadata": {
    "application/vnd.databricks.v1+cell": {
     "cellMetadata": {
      "byteLimit": 2048000,
      "implicitDf": true,
      "rowLimit": 10000
     },
     "inputWidgets": {},
     "nuid": "75c0a39a-941a-4f45-af63-448b76e01afd",
     "showTitle": false,
     "title": ""
    }
   },
   "outputs": [
    {
     "output_type": "display_data",
     "data": {
      "text/html": [
       "<style scoped>\n",
       "  .table-result-container {\n",
       "    max-height: 300px;\n",
       "    overflow: auto;\n",
       "  }\n",
       "  table, th, td {\n",
       "    border: 1px solid black;\n",
       "    border-collapse: collapse;\n",
       "  }\n",
       "  th, td {\n",
       "    padding: 5px;\n",
       "  }\n",
       "  th {\n",
       "    text-align: left;\n",
       "  }\n",
       "</style><div class='table-result-container'><table class='table-result'><thead style='background-color: white'><tr><th>id</th><th>name</th><th>salary</th></tr></thead><tbody><tr><td>1</td><td>Adam</td><td>350100.0</td></tr><tr><td>2</td><td>Sarah</td><td>4020.5</td></tr><tr><td>3</td><td>John</td><td>2999.3</td></tr><tr><td>4</td><td>Thomas</td><td>4000.3</td></tr><tr><td>5</td><td>Anna</td><td>250100.0</td></tr><tr><td>6</td><td>Kim</td><td>6200.3</td></tr></tbody></table></div>"
      ]
     },
     "metadata": {
      "application/vnd.databricks.v1+output": {
       "addedWidgets": {},
       "aggData": [],
       "aggError": "",
       "aggOverflow": false,
       "aggSchema": [],
       "aggSeriesLimitReached": false,
       "aggType": "",
       "arguments": {},
       "columnCustomDisplayInfos": {},
       "data": [
        [
         1,
         "Adam",
         350100.0
        ],
        [
         2,
         "Sarah",
         4020.5
        ],
        [
         3,
         "John",
         2999.3
        ],
        [
         4,
         "Thomas",
         4000.3
        ],
        [
         5,
         "Anna",
         250100.0
        ],
        [
         6,
         "Kim",
         6200.3
        ]
       ],
       "datasetInfos": [],
       "dbfsResultPath": null,
       "isJsonSchema": true,
       "metadata": {},
       "overflow": false,
       "plotOptions": {
        "customPlotOptions": {},
        "displayType": "table",
        "pivotAggregation": null,
        "pivotColumns": null,
        "xColumns": null,
        "yColumns": null
       },
       "removedWidgets": [],
       "schema": [
        {
         "metadata": "{}",
         "name": "id",
         "type": "\"integer\""
        },
        {
         "metadata": "{}",
         "name": "name",
         "type": "\"string\""
        },
        {
         "metadata": "{}",
         "name": "salary",
         "type": "\"double\""
        }
       ],
       "type": "table"
      }
     },
     "output_type": "display_data"
    }
   ],
   "source": [
    "%sql\n",
    "select * from employees;"
   ]
  },
  {
   "cell_type": "markdown",
   "metadata": {
    "application/vnd.databricks.v1+cell": {
     "cellMetadata": {},
     "inputWidgets": {},
     "nuid": "54619031-9a49-4626-a06f-680ddd96db09",
     "showTitle": false,
     "title": ""
    }
   },
   "source": [
    "### Fetch Metadata Info for a Table"
   ]
  },
  {
   "cell_type": "code",
   "execution_count": 0,
   "metadata": {
    "application/vnd.databricks.v1+cell": {
     "cellMetadata": {
      "byteLimit": 2048000,
      "implicitDf": true,
      "rowLimit": 10000
     },
     "inputWidgets": {},
     "nuid": "25aa08e8-4d40-4f63-99a4-599857e29a21",
     "showTitle": false,
     "title": ""
    }
   },
   "outputs": [
    {
     "output_type": "display_data",
     "data": {
      "text/html": [
       "<style scoped>\n",
       "  .table-result-container {\n",
       "    max-height: 300px;\n",
       "    overflow: auto;\n",
       "  }\n",
       "  table, th, td {\n",
       "    border: 1px solid black;\n",
       "    border-collapse: collapse;\n",
       "  }\n",
       "  th, td {\n",
       "    padding: 5px;\n",
       "  }\n",
       "  th {\n",
       "    text-align: left;\n",
       "  }\n",
       "</style><div class='table-result-container'><table class='table-result'><thead style='background-color: white'><tr><th>format</th><th>id</th><th>name</th><th>description</th><th>location</th><th>createdAt</th><th>lastModified</th><th>partitionColumns</th><th>numFiles</th><th>sizeInBytes</th><th>properties</th><th>minReaderVersion</th><th>minWriterVersion</th></tr></thead><tbody><tr><td>delta</td><td>e0957b50-bb0d-49a2-993f-0ff4a14617c1</td><td>spark_catalog.default.employees</td><td>null</td><td>dbfs:/user/hive/warehouse/employees</td><td>2024-01-20T16:34:23.876+0000</td><td>2024-01-20T16:54:38.000+0000</td><td>List()</td><td>1</td><td>1158</td><td>Map()</td><td>1</td><td>2</td></tr></tbody></table></div>"
      ]
     },
     "metadata": {
      "application/vnd.databricks.v1+output": {
       "addedWidgets": {},
       "aggData": [],
       "aggError": "",
       "aggOverflow": false,
       "aggSchema": [],
       "aggSeriesLimitReached": false,
       "aggType": "",
       "arguments": {},
       "columnCustomDisplayInfos": {},
       "data": [
        [
         "delta",
         "e0957b50-bb0d-49a2-993f-0ff4a14617c1",
         "spark_catalog.default.employees",
         null,
         "dbfs:/user/hive/warehouse/employees",
         "2024-01-20T16:34:23.876+0000",
         "2024-01-20T16:54:38.000+0000",
         [],
         1,
         1158,
         {},
         1,
         2
        ]
       ],
       "datasetInfos": [],
       "dbfsResultPath": null,
       "isJsonSchema": true,
       "metadata": {},
       "overflow": false,
       "plotOptions": {
        "customPlotOptions": {},
        "displayType": "table",
        "pivotAggregation": null,
        "pivotColumns": null,
        "xColumns": null,
        "yColumns": null
       },
       "removedWidgets": [],
       "schema": [
        {
         "metadata": "{}",
         "name": "format",
         "type": "\"string\""
        },
        {
         "metadata": "{}",
         "name": "id",
         "type": "\"string\""
        },
        {
         "metadata": "{}",
         "name": "name",
         "type": "\"string\""
        },
        {
         "metadata": "{}",
         "name": "description",
         "type": "\"string\""
        },
        {
         "metadata": "{}",
         "name": "location",
         "type": "\"string\""
        },
        {
         "metadata": "{}",
         "name": "createdAt",
         "type": "\"timestamp\""
        },
        {
         "metadata": "{}",
         "name": "lastModified",
         "type": "\"timestamp\""
        },
        {
         "metadata": "{}",
         "name": "partitionColumns",
         "type": "{\"type\":\"array\",\"elementType\":\"string\",\"containsNull\":true}"
        },
        {
         "metadata": "{}",
         "name": "numFiles",
         "type": "\"long\""
        },
        {
         "metadata": "{}",
         "name": "sizeInBytes",
         "type": "\"long\""
        },
        {
         "metadata": "{}",
         "name": "properties",
         "type": "{\"type\":\"map\",\"keyType\":\"string\",\"valueType\":\"string\",\"valueContainsNull\":true}"
        },
        {
         "metadata": "{}",
         "name": "minReaderVersion",
         "type": "\"integer\""
        },
        {
         "metadata": "{}",
         "name": "minWriterVersion",
         "type": "\"integer\""
        }
       ],
       "type": "table"
      }
     },
     "output_type": "display_data"
    }
   ],
   "source": [
    "%sql\n",
    "describe detail employees"
   ]
  },
  {
   "cell_type": "markdown",
   "metadata": {
    "application/vnd.databricks.v1+cell": {
     "cellMetadata": {},
     "inputWidgets": {},
     "nuid": "d0f09f12-228e-46f0-b02c-e17596b0272b",
     "showTitle": false,
     "title": ""
    }
   },
   "source": [
    "### Check the hive data file"
   ]
  },
  {
   "cell_type": "code",
   "execution_count": 0,
   "metadata": {
    "application/vnd.databricks.v1+cell": {
     "cellMetadata": {
      "byteLimit": 2048000,
      "rowLimit": 10000
     },
     "inputWidgets": {},
     "nuid": "c3f22032-100b-4277-9095-72e12fb64d20",
     "showTitle": false,
     "title": ""
    }
   },
   "outputs": [
    {
     "output_type": "display_data",
     "data": {
      "text/html": [
       "<style scoped>\n",
       "  .table-result-container {\n",
       "    max-height: 300px;\n",
       "    overflow: auto;\n",
       "  }\n",
       "  table, th, td {\n",
       "    border: 1px solid black;\n",
       "    border-collapse: collapse;\n",
       "  }\n",
       "  th, td {\n",
       "    padding: 5px;\n",
       "  }\n",
       "  th {\n",
       "    text-align: left;\n",
       "  }\n",
       "</style><div class='table-result-container'><table class='table-result'><thead style='background-color: white'><tr><th>path</th><th>name</th><th>size</th><th>modificationTime</th></tr></thead><tbody><tr><td>dbfs:/user/hive/warehouse/employees/_delta_log/</td><td>_delta_log/</td><td>0</td><td>1705768464000</td></tr><tr><td>dbfs:/user/hive/warehouse/employees/part-00000-05f5bee8-1d85-470a-9ee7-69fe6b3765b0-c000.snappy.parquet</td><td>part-00000-05f5bee8-1d85-470a-9ee7-69fe6b3765b0-c000.snappy.parquet</td><td>1158</td><td>1705769678000</td></tr><tr><td>dbfs:/user/hive/warehouse/employees/part-00000-4489c648-213d-464f-a134-9598d483d3ed-c000.snappy.parquet</td><td>part-00000-4489c648-213d-464f-a134-9598d483d3ed-c000.snappy.parquet</td><td>1155</td><td>1705769098000</td></tr><tr><td>dbfs:/user/hive/warehouse/employees/part-00000-e773309a-2d22-43b6-8f67-70b98415eb7d-c000.snappy.parquet</td><td>part-00000-e773309a-2d22-43b6-8f67-70b98415eb7d-c000.snappy.parquet</td><td>1158</td><td>1705769644000</td></tr></tbody></table></div>"
      ]
     },
     "metadata": {
      "application/vnd.databricks.v1+output": {
       "addedWidgets": {},
       "aggData": [],
       "aggError": "",
       "aggOverflow": false,
       "aggSchema": [],
       "aggSeriesLimitReached": false,
       "aggType": "",
       "arguments": {},
       "columnCustomDisplayInfos": {},
       "data": [
        [
         "dbfs:/user/hive/warehouse/employees/_delta_log/",
         "_delta_log/",
         0,
         1705768464000
        ],
        [
         "dbfs:/user/hive/warehouse/employees/part-00000-05f5bee8-1d85-470a-9ee7-69fe6b3765b0-c000.snappy.parquet",
         "part-00000-05f5bee8-1d85-470a-9ee7-69fe6b3765b0-c000.snappy.parquet",
         1158,
         1705769678000
        ],
        [
         "dbfs:/user/hive/warehouse/employees/part-00000-4489c648-213d-464f-a134-9598d483d3ed-c000.snappy.parquet",
         "part-00000-4489c648-213d-464f-a134-9598d483d3ed-c000.snappy.parquet",
         1155,
         1705769098000
        ],
        [
         "dbfs:/user/hive/warehouse/employees/part-00000-e773309a-2d22-43b6-8f67-70b98415eb7d-c000.snappy.parquet",
         "part-00000-e773309a-2d22-43b6-8f67-70b98415eb7d-c000.snappy.parquet",
         1158,
         1705769644000
        ]
       ],
       "datasetInfos": [],
       "dbfsResultPath": null,
       "isJsonSchema": true,
       "metadata": {
        "isDbfsCommandResult": false
       },
       "overflow": false,
       "plotOptions": {
        "customPlotOptions": {},
        "displayType": "table",
        "pivotAggregation": null,
        "pivotColumns": null,
        "xColumns": null,
        "yColumns": null
       },
       "removedWidgets": [],
       "schema": [
        {
         "metadata": "{}",
         "name": "path",
         "type": "\"string\""
        },
        {
         "metadata": "{}",
         "name": "name",
         "type": "\"string\""
        },
        {
         "metadata": "{}",
         "name": "size",
         "type": "\"long\""
        },
        {
         "metadata": "{}",
         "name": "modificationTime",
         "type": "\"long\""
        }
       ],
       "type": "table"
      }
     },
     "output_type": "display_data"
    }
   ],
   "source": [
    "%fs\n",
    "ls \"dbfs:/user/hive/warehouse/employees\""
   ]
  },
  {
   "cell_type": "markdown",
   "metadata": {
    "application/vnd.databricks.v1+cell": {
     "cellMetadata": {},
     "inputWidgets": {},
     "nuid": "11819603-defc-4d4b-a7af-43c6ffef93c9",
     "showTitle": false,
     "title": ""
    }
   },
   "source": [
    "### Update Command"
   ]
  },
  {
   "cell_type": "code",
   "execution_count": 0,
   "metadata": {
    "application/vnd.databricks.v1+cell": {
     "cellMetadata": {
      "byteLimit": 2048000,
      "implicitDf": true,
      "rowLimit": 10000
     },
     "inputWidgets": {},
     "nuid": "3267b14c-c902-490a-9876-56574a6175a2",
     "showTitle": false,
     "title": ""
    }
   },
   "outputs": [
    {
     "output_type": "display_data",
     "data": {
      "text/html": [
       "<style scoped>\n",
       "  .table-result-container {\n",
       "    max-height: 300px;\n",
       "    overflow: auto;\n",
       "  }\n",
       "  table, th, td {\n",
       "    border: 1px solid black;\n",
       "    border-collapse: collapse;\n",
       "  }\n",
       "  th, td {\n",
       "    padding: 5px;\n",
       "  }\n",
       "  th {\n",
       "    text-align: left;\n",
       "  }\n",
       "</style><div class='table-result-container'><table class='table-result'><thead style='background-color: white'><tr><th>num_affected_rows</th></tr></thead><tbody><tr><td>2</td></tr></tbody></table></div>"
      ]
     },
     "metadata": {
      "application/vnd.databricks.v1+output": {
       "addedWidgets": {},
       "aggData": [],
       "aggError": "",
       "aggOverflow": false,
       "aggSchema": [],
       "aggSeriesLimitReached": false,
       "aggType": "",
       "arguments": {},
       "columnCustomDisplayInfos": {},
       "data": [
        [
         2
        ]
       ],
       "datasetInfos": [],
       "dbfsResultPath": null,
       "isJsonSchema": true,
       "metadata": {},
       "overflow": false,
       "plotOptions": {
        "customPlotOptions": {},
        "displayType": "table",
        "pivotAggregation": null,
        "pivotColumns": null,
        "xColumns": null,
        "yColumns": null
       },
       "removedWidgets": [],
       "schema": [
        {
         "metadata": "{}",
         "name": "num_affected_rows",
         "type": "\"long\""
        }
       ],
       "type": "table"
      }
     },
     "output_type": "display_data"
    }
   ],
   "source": [
    "%sql\n",
    "UPDATE employees\n",
    "SET salary = salary + 100\n",
    "WHERE \n",
    "  name LIKE 'A%';"
   ]
  },
  {
   "cell_type": "markdown",
   "metadata": {
    "application/vnd.databricks.v1+cell": {
     "cellMetadata": {},
     "inputWidgets": {},
     "nuid": "3f81aeeb-c533-4e41-990a-495f77bb0873",
     "showTitle": false,
     "title": ""
    }
   },
   "source": [
    "### Check the history of a table (transaction log)"
   ]
  },
  {
   "cell_type": "code",
   "execution_count": 0,
   "metadata": {
    "application/vnd.databricks.v1+cell": {
     "cellMetadata": {
      "byteLimit": 2048000,
      "implicitDf": true,
      "rowLimit": 10000
     },
     "inputWidgets": {},
     "nuid": "2dba520c-742a-49ec-9396-7bacbb13b7a7",
     "showTitle": false,
     "title": ""
    }
   },
   "outputs": [
    {
     "output_type": "display_data",
     "data": {
      "text/html": [
       "<style scoped>\n",
       "  .table-result-container {\n",
       "    max-height: 300px;\n",
       "    overflow: auto;\n",
       "  }\n",
       "  table, th, td {\n",
       "    border: 1px solid black;\n",
       "    border-collapse: collapse;\n",
       "  }\n",
       "  th, td {\n",
       "    padding: 5px;\n",
       "  }\n",
       "  th {\n",
       "    text-align: left;\n",
       "  }\n",
       "</style><div class='table-result-container'><table class='table-result'><thead style='background-color: white'><tr><th>version</th><th>timestamp</th><th>userId</th><th>userName</th><th>operation</th><th>operationParameters</th><th>job</th><th>notebook</th><th>clusterId</th><th>readVersion</th><th>isolationLevel</th><th>isBlindAppend</th><th>operationMetrics</th><th>userMetadata</th><th>engineInfo</th></tr></thead><tbody><tr><td>3</td><td>2024-01-20T16:54:38.000+0000</td><td>4582792211429408</td><td>ali.muhammad@blutechconsulting.com</td><td>UPDATE</td><td>Map(predicate -> [\"StartsWith(name#2444, A)\"])</td><td>null</td><td>List(2923202399434373)</td><td>0120-142018-2rzjaj31</td><td>2</td><td>WriteSerializable</td><td>false</td><td>Map(numRemovedFiles -> 1, numCopiedRows -> 4, numAddedChangeFiles -> 0, executionTimeMs -> 902, scanTimeMs -> 461, numAddedFiles -> 1, numUpdatedRows -> 2, rewriteTimeMs -> 440)</td><td>null</td><td>Databricks-Runtime/11.3.x-scala2.12</td></tr><tr><td>2</td><td>2024-01-20T16:54:05.000+0000</td><td>4582792211429408</td><td>ali.muhammad@blutechconsulting.com</td><td>UPDATE</td><td>Map(predicate -> [\"StartsWith(name#1844, A)\"])</td><td>null</td><td>List(2923202399434373)</td><td>0120-142018-2rzjaj31</td><td>1</td><td>WriteSerializable</td><td>false</td><td>Map(numRemovedFiles -> 1, numCopiedRows -> 4, numAddedChangeFiles -> 0, executionTimeMs -> 1623, scanTimeMs -> 1021, numAddedFiles -> 1, numUpdatedRows -> 2, rewriteTimeMs -> 592)</td><td>null</td><td>Databricks-Runtime/11.3.x-scala2.12</td></tr><tr><td>1</td><td>2024-01-20T16:44:59.000+0000</td><td>4582792211429408</td><td>ali.muhammad@blutechconsulting.com</td><td>WRITE</td><td>Map(mode -> Append, partitionBy -> [])</td><td>null</td><td>List(2923202399434373)</td><td>0120-142018-2rzjaj31</td><td>0</td><td>WriteSerializable</td><td>true</td><td>Map(numFiles -> 1, numOutputRows -> 6, numOutputBytes -> 1155)</td><td>null</td><td>Databricks-Runtime/11.3.x-scala2.12</td></tr><tr><td>0</td><td>2024-01-20T16:34:24.000+0000</td><td>4582792211429408</td><td>ali.muhammad@blutechconsulting.com</td><td>CREATE TABLE</td><td>Map(isManaged -> true, description -> null, partitionBy -> [], properties -> {})</td><td>null</td><td>List(2923202399434373)</td><td>0120-142018-2rzjaj31</td><td>null</td><td>WriteSerializable</td><td>true</td><td>Map()</td><td>null</td><td>Databricks-Runtime/11.3.x-scala2.12</td></tr></tbody></table></div>"
      ]
     },
     "metadata": {
      "application/vnd.databricks.v1+output": {
       "addedWidgets": {},
       "aggData": [],
       "aggError": "",
       "aggOverflow": false,
       "aggSchema": [],
       "aggSeriesLimitReached": false,
       "aggType": "",
       "arguments": {},
       "columnCustomDisplayInfos": {},
       "data": [
        [
         3,
         "2024-01-20T16:54:38.000+0000",
         "4582792211429408",
         "ali.muhammad@blutechconsulting.com",
         "UPDATE",
         {
          "predicate": "[\"StartsWith(name#2444, A)\"]"
         },
         null,
         [
          "2923202399434373"
         ],
         "0120-142018-2rzjaj31",
         2,
         "WriteSerializable",
         false,
         {
          "executionTimeMs": "902",
          "numAddedChangeFiles": "0",
          "numAddedFiles": "1",
          "numCopiedRows": "4",
          "numRemovedFiles": "1",
          "numUpdatedRows": "2",
          "rewriteTimeMs": "440",
          "scanTimeMs": "461"
         },
         null,
         "Databricks-Runtime/11.3.x-scala2.12"
        ],
        [
         2,
         "2024-01-20T16:54:05.000+0000",
         "4582792211429408",
         "ali.muhammad@blutechconsulting.com",
         "UPDATE",
         {
          "predicate": "[\"StartsWith(name#1844, A)\"]"
         },
         null,
         [
          "2923202399434373"
         ],
         "0120-142018-2rzjaj31",
         1,
         "WriteSerializable",
         false,
         {
          "executionTimeMs": "1623",
          "numAddedChangeFiles": "0",
          "numAddedFiles": "1",
          "numCopiedRows": "4",
          "numRemovedFiles": "1",
          "numUpdatedRows": "2",
          "rewriteTimeMs": "592",
          "scanTimeMs": "1021"
         },
         null,
         "Databricks-Runtime/11.3.x-scala2.12"
        ],
        [
         1,
         "2024-01-20T16:44:59.000+0000",
         "4582792211429408",
         "ali.muhammad@blutechconsulting.com",
         "WRITE",
         {
          "mode": "Append",
          "partitionBy": "[]"
         },
         null,
         [
          "2923202399434373"
         ],
         "0120-142018-2rzjaj31",
         0,
         "WriteSerializable",
         true,
         {
          "numFiles": "1",
          "numOutputBytes": "1155",
          "numOutputRows": "6"
         },
         null,
         "Databricks-Runtime/11.3.x-scala2.12"
        ],
        [
         0,
         "2024-01-20T16:34:24.000+0000",
         "4582792211429408",
         "ali.muhammad@blutechconsulting.com",
         "CREATE TABLE",
         {
          "description": null,
          "isManaged": "true",
          "partitionBy": "[]",
          "properties": "{}"
         },
         null,
         [
          "2923202399434373"
         ],
         "0120-142018-2rzjaj31",
         null,
         "WriteSerializable",
         true,
         {},
         null,
         "Databricks-Runtime/11.3.x-scala2.12"
        ]
       ],
       "datasetInfos": [],
       "dbfsResultPath": null,
       "isJsonSchema": true,
       "metadata": {},
       "overflow": false,
       "plotOptions": {
        "customPlotOptions": {},
        "displayType": "table",
        "pivotAggregation": null,
        "pivotColumns": null,
        "xColumns": null,
        "yColumns": null
       },
       "removedWidgets": [],
       "schema": [
        {
         "metadata": "{}",
         "name": "version",
         "type": "\"long\""
        },
        {
         "metadata": "{}",
         "name": "timestamp",
         "type": "\"timestamp\""
        },
        {
         "metadata": "{}",
         "name": "userId",
         "type": "\"string\""
        },
        {
         "metadata": "{}",
         "name": "userName",
         "type": "\"string\""
        },
        {
         "metadata": "{}",
         "name": "operation",
         "type": "\"string\""
        },
        {
         "metadata": "{}",
         "name": "operationParameters",
         "type": "{\"type\":\"map\",\"keyType\":\"string\",\"valueType\":\"string\",\"valueContainsNull\":true}"
        },
        {
         "metadata": "{}",
         "name": "job",
         "type": "{\"type\":\"struct\",\"fields\":[{\"name\":\"jobId\",\"type\":\"string\",\"nullable\":true,\"metadata\":{}},{\"name\":\"jobName\",\"type\":\"string\",\"nullable\":true,\"metadata\":{}},{\"name\":\"runId\",\"type\":\"string\",\"nullable\":true,\"metadata\":{}},{\"name\":\"jobOwnerId\",\"type\":\"string\",\"nullable\":true,\"metadata\":{}},{\"name\":\"triggerType\",\"type\":\"string\",\"nullable\":true,\"metadata\":{}}]}"
        },
        {
         "metadata": "{}",
         "name": "notebook",
         "type": "{\"type\":\"struct\",\"fields\":[{\"name\":\"notebookId\",\"type\":\"string\",\"nullable\":true,\"metadata\":{}}]}"
        },
        {
         "metadata": "{}",
         "name": "clusterId",
         "type": "\"string\""
        },
        {
         "metadata": "{}",
         "name": "readVersion",
         "type": "\"long\""
        },
        {
         "metadata": "{}",
         "name": "isolationLevel",
         "type": "\"string\""
        },
        {
         "metadata": "{}",
         "name": "isBlindAppend",
         "type": "\"boolean\""
        },
        {
         "metadata": "{}",
         "name": "operationMetrics",
         "type": "{\"type\":\"map\",\"keyType\":\"string\",\"valueType\":\"string\",\"valueContainsNull\":true}"
        },
        {
         "metadata": "{}",
         "name": "userMetadata",
         "type": "\"string\""
        },
        {
         "metadata": "{}",
         "name": "engineInfo",
         "type": "\"string\""
        }
       ],
       "type": "table"
      }
     },
     "output_type": "display_data"
    }
   ],
   "source": [
    "%sql \n",
    "describe history employees"
   ]
  },
  {
   "cell_type": "markdown",
   "metadata": {
    "application/vnd.databricks.v1+cell": {
     "cellMetadata": {},
     "inputWidgets": {},
     "nuid": "8fbeeda2-2290-47ab-8ef3-8e1c3639e216",
     "showTitle": false,
     "title": ""
    }
   },
   "source": [
    "### Check the transaction log"
   ]
  },
  {
   "cell_type": "code",
   "execution_count": 0,
   "metadata": {
    "application/vnd.databricks.v1+cell": {
     "cellMetadata": {
      "byteLimit": 2048000,
      "rowLimit": 10000
     },
     "inputWidgets": {},
     "nuid": "13509a88-0da3-445b-aa61-0d7951f466ee",
     "showTitle": false,
     "title": ""
    }
   },
   "outputs": [
    {
     "output_type": "display_data",
     "data": {
      "text/html": [
       "<style scoped>\n",
       "  .table-result-container {\n",
       "    max-height: 300px;\n",
       "    overflow: auto;\n",
       "  }\n",
       "  table, th, td {\n",
       "    border: 1px solid black;\n",
       "    border-collapse: collapse;\n",
       "  }\n",
       "  th, td {\n",
       "    padding: 5px;\n",
       "  }\n",
       "  th {\n",
       "    text-align: left;\n",
       "  }\n",
       "</style><div class='table-result-container'><table class='table-result'><thead style='background-color: white'><tr><th>path</th><th>name</th><th>size</th><th>modificationTime</th></tr></thead><tbody><tr><td>dbfs:/user/hive/warehouse/employees/_delta_log/00000000000000000000.crc</td><td>00000000000000000000.crc</td><td>2007</td><td>1705768477000</td></tr><tr><td>dbfs:/user/hive/warehouse/employees/_delta_log/00000000000000000000.json</td><td>00000000000000000000.json</td><td>1008</td><td>1705768464000</td></tr><tr><td>dbfs:/user/hive/warehouse/employees/_delta_log/00000000000000000001.crc</td><td>00000000000000000001.crc</td><td>2538</td><td>1705769101000</td></tr><tr><td>dbfs:/user/hive/warehouse/employees/_delta_log/00000000000000000001.json</td><td>00000000000000000001.json</td><td>1063</td><td>1705769099000</td></tr><tr><td>dbfs:/user/hive/warehouse/employees/_delta_log/00000000000000000002.crc</td><td>00000000000000000002.crc</td><td>2540</td><td>1705769647000</td></tr><tr><td>dbfs:/user/hive/warehouse/employees/_delta_log/00000000000000000002.json</td><td>00000000000000000002.json</td><td>1557</td><td>1705769645000</td></tr><tr><td>dbfs:/user/hive/warehouse/employees/_delta_log/00000000000000000003.crc</td><td>00000000000000000003.crc</td><td>2540</td><td>1705769680000</td></tr><tr><td>dbfs:/user/hive/warehouse/employees/_delta_log/00000000000000000003.json</td><td>00000000000000000003.json</td><td>1555</td><td>1705769678000</td></tr><tr><td>dbfs:/user/hive/warehouse/employees/_delta_log/__tmp_path_dir/</td><td>__tmp_path_dir/</td><td>0</td><td>1705768464000</td></tr></tbody></table></div>"
      ]
     },
     "metadata": {
      "application/vnd.databricks.v1+output": {
       "addedWidgets": {},
       "aggData": [],
       "aggError": "",
       "aggOverflow": false,
       "aggSchema": [],
       "aggSeriesLimitReached": false,
       "aggType": "",
       "arguments": {},
       "columnCustomDisplayInfos": {},
       "data": [
        [
         "dbfs:/user/hive/warehouse/employees/_delta_log/00000000000000000000.crc",
         "00000000000000000000.crc",
         2007,
         1705768477000
        ],
        [
         "dbfs:/user/hive/warehouse/employees/_delta_log/00000000000000000000.json",
         "00000000000000000000.json",
         1008,
         1705768464000
        ],
        [
         "dbfs:/user/hive/warehouse/employees/_delta_log/00000000000000000001.crc",
         "00000000000000000001.crc",
         2538,
         1705769101000
        ],
        [
         "dbfs:/user/hive/warehouse/employees/_delta_log/00000000000000000001.json",
         "00000000000000000001.json",
         1063,
         1705769099000
        ],
        [
         "dbfs:/user/hive/warehouse/employees/_delta_log/00000000000000000002.crc",
         "00000000000000000002.crc",
         2540,
         1705769647000
        ],
        [
         "dbfs:/user/hive/warehouse/employees/_delta_log/00000000000000000002.json",
         "00000000000000000002.json",
         1557,
         1705769645000
        ],
        [
         "dbfs:/user/hive/warehouse/employees/_delta_log/00000000000000000003.crc",
         "00000000000000000003.crc",
         2540,
         1705769680000
        ],
        [
         "dbfs:/user/hive/warehouse/employees/_delta_log/00000000000000000003.json",
         "00000000000000000003.json",
         1555,
         1705769678000
        ],
        [
         "dbfs:/user/hive/warehouse/employees/_delta_log/__tmp_path_dir/",
         "__tmp_path_dir/",
         0,
         1705768464000
        ]
       ],
       "datasetInfos": [],
       "dbfsResultPath": null,
       "isJsonSchema": true,
       "metadata": {
        "isDbfsCommandResult": false
       },
       "overflow": false,
       "plotOptions": {
        "customPlotOptions": {},
        "displayType": "table",
        "pivotAggregation": null,
        "pivotColumns": null,
        "xColumns": null,
        "yColumns": null
       },
       "removedWidgets": [],
       "schema": [
        {
         "metadata": "{}",
         "name": "path",
         "type": "\"string\""
        },
        {
         "metadata": "{}",
         "name": "name",
         "type": "\"string\""
        },
        {
         "metadata": "{}",
         "name": "size",
         "type": "\"long\""
        },
        {
         "metadata": "{}",
         "name": "modificationTime",
         "type": "\"long\""
        }
       ],
       "type": "table"
      }
     },
     "output_type": "display_data"
    }
   ],
   "source": [
    "%fs\n",
    "ls \"dbfs:/user/hive/warehouse/employees/_delta_log\""
   ]
  },
  {
   "cell_type": "code",
   "execution_count": 0,
   "metadata": {
    "application/vnd.databricks.v1+cell": {
     "cellMetadata": {
      "byteLimit": 2048000,
      "rowLimit": 10000
     },
     "inputWidgets": {},
     "nuid": "8acf0327-5633-4e3f-9a95-671a1103fa1c",
     "showTitle": false,
     "title": ""
    }
   },
   "outputs": [
    {
     "output_type": "display_data",
     "data": {
      "text/html": [
       "<style scoped>\n",
       "  .ansiout {\n",
       "    display: block;\n",
       "    unicode-bidi: embed;\n",
       "    white-space: pre-wrap;\n",
       "    word-wrap: break-word;\n",
       "    word-break: break-all;\n",
       "    font-family: \"Menlo\", \"Monaco\", \"Consolas\", \"Ubuntu Mono\", \"Source Code Pro\", monospace;\n",
       "    font-size: 13px;\n",
       "    color: #555;\n",
       "    margin-left: 4px;\n",
       "    line-height: 19px;\n",
       "  }\n",
       "</style>\n",
       "<div class=\"ansiout\">{&quot;commitInfo&quot;:{&quot;timestamp&quot;:1705769678900,&quot;userId&quot;:&quot;4582792211429408&quot;,&quot;userName&quot;:&quot;ali.muhammad@blutechconsulting.com&quot;,&quot;operation&quot;:&quot;UPDATE&quot;,&quot;operationParameters&quot;:{&quot;predicate&quot;:&quot;[\\&quot;StartsWith(name#2444, A)\\&quot;]&quot;},&quot;notebook&quot;:{&quot;notebookId&quot;:&quot;2923202399434373&quot;},&quot;clusterId&quot;:&quot;0120-142018-2rzjaj31&quot;,&quot;readVersion&quot;:2,&quot;isolationLevel&quot;:&quot;WriteSerializable&quot;,&quot;isBlindAppend&quot;:false,&quot;operationMetrics&quot;:{&quot;numRemovedFiles&quot;:&quot;1&quot;,&quot;numCopiedRows&quot;:&quot;4&quot;,&quot;numAddedChangeFiles&quot;:&quot;0&quot;,&quot;executionTimeMs&quot;:&quot;902&quot;,&quot;scanTimeMs&quot;:&quot;461&quot;,&quot;numAddedFiles&quot;:&quot;1&quot;,&quot;numUpdatedRows&quot;:&quot;2&quot;,&quot;rewriteTimeMs&quot;:&quot;440&quot;},&quot;engineInfo&quot;:&quot;Databricks-Runtime/11.3.x-scala2.12&quot;,&quot;txnId&quot;:&quot;6c9a886d-8961-4a72-8248-90de08495a74&quot;}}\n",
       "{&quot;remove&quot;:{&quot;path&quot;:&quot;part-00000-e773309a-2d22-43b6-8f67-70b98415eb7d-c000.snappy.parquet&quot;,&quot;deletionTimestamp&quot;:1705769678899,&quot;dataChange&quot;:true,&quot;extendedFileMetadata&quot;:true,&quot;partitionValues&quot;:{},&quot;size&quot;:1158,&quot;tags&quot;:{&quot;MAX_INSERTION_TIME&quot;:&quot;1705769098000000&quot;,&quot;INSERTION_TIME&quot;:&quot;1705769098000000&quot;,&quot;MIN_INSERTION_TIME&quot;:&quot;1705769098000000&quot;,&quot;OPTIMIZE_TARGET_SIZE&quot;:&quot;268435456&quot;}}}\n",
       "{&quot;add&quot;:{&quot;path&quot;:&quot;part-00000-05f5bee8-1d85-470a-9ee7-69fe6b3765b0-c000.snappy.parquet&quot;,&quot;partitionValues&quot;:{},&quot;size&quot;:1158,&quot;modificationTime&quot;:1705769678000,&quot;dataChange&quot;:true,&quot;stats&quot;:&quot;{\\&quot;numRecords\\&quot;:6,\\&quot;minValues\\&quot;:{\\&quot;id\\&quot;:1,\\&quot;name\\&quot;:\\&quot;Adam\\&quot;,\\&quot;salary\\&quot;:2999.3},\\&quot;maxValues\\&quot;:{\\&quot;id\\&quot;:6,\\&quot;name\\&quot;:\\&quot;Thomas\\&quot;,\\&quot;salary\\&quot;:350100.0},\\&quot;nullCount\\&quot;:{\\&quot;id\\&quot;:0,\\&quot;name\\&quot;:0,\\&quot;salary\\&quot;:0}}&quot;,&quot;tags&quot;:{&quot;MAX_INSERTION_TIME&quot;:&quot;1705769098000000&quot;,&quot;INSERTION_TIME&quot;:&quot;1705769098000000&quot;,&quot;MIN_INSERTION_TIME&quot;:&quot;1705769098000000&quot;,&quot;OPTIMIZE_TARGET_SIZE&quot;:&quot;268435456&quot;}}}\n",
       "\n",
       "</div>"
      ]
     },
     "metadata": {
      "application/vnd.databricks.v1+output": {
       "addedWidgets": {},
       "arguments": {},
       "data": "<div class=\"ansiout\">{&quot;commitInfo&quot;:{&quot;timestamp&quot;:1705769678900,&quot;userId&quot;:&quot;4582792211429408&quot;,&quot;userName&quot;:&quot;ali.muhammad@blutechconsulting.com&quot;,&quot;operation&quot;:&quot;UPDATE&quot;,&quot;operationParameters&quot;:{&quot;predicate&quot;:&quot;[\\&quot;StartsWith(name#2444, A)\\&quot;]&quot;},&quot;notebook&quot;:{&quot;notebookId&quot;:&quot;2923202399434373&quot;},&quot;clusterId&quot;:&quot;0120-142018-2rzjaj31&quot;,&quot;readVersion&quot;:2,&quot;isolationLevel&quot;:&quot;WriteSerializable&quot;,&quot;isBlindAppend&quot;:false,&quot;operationMetrics&quot;:{&quot;numRemovedFiles&quot;:&quot;1&quot;,&quot;numCopiedRows&quot;:&quot;4&quot;,&quot;numAddedChangeFiles&quot;:&quot;0&quot;,&quot;executionTimeMs&quot;:&quot;902&quot;,&quot;scanTimeMs&quot;:&quot;461&quot;,&quot;numAddedFiles&quot;:&quot;1&quot;,&quot;numUpdatedRows&quot;:&quot;2&quot;,&quot;rewriteTimeMs&quot;:&quot;440&quot;},&quot;engineInfo&quot;:&quot;Databricks-Runtime/11.3.x-scala2.12&quot;,&quot;txnId&quot;:&quot;6c9a886d-8961-4a72-8248-90de08495a74&quot;}}\n{&quot;remove&quot;:{&quot;path&quot;:&quot;part-00000-e773309a-2d22-43b6-8f67-70b98415eb7d-c000.snappy.parquet&quot;,&quot;deletionTimestamp&quot;:1705769678899,&quot;dataChange&quot;:true,&quot;extendedFileMetadata&quot;:true,&quot;partitionValues&quot;:{},&quot;size&quot;:1158,&quot;tags&quot;:{&quot;MAX_INSERTION_TIME&quot;:&quot;1705769098000000&quot;,&quot;INSERTION_TIME&quot;:&quot;1705769098000000&quot;,&quot;MIN_INSERTION_TIME&quot;:&quot;1705769098000000&quot;,&quot;OPTIMIZE_TARGET_SIZE&quot;:&quot;268435456&quot;}}}\n{&quot;add&quot;:{&quot;path&quot;:&quot;part-00000-05f5bee8-1d85-470a-9ee7-69fe6b3765b0-c000.snappy.parquet&quot;,&quot;partitionValues&quot;:{},&quot;size&quot;:1158,&quot;modificationTime&quot;:1705769678000,&quot;dataChange&quot;:true,&quot;stats&quot;:&quot;{\\&quot;numRecords\\&quot;:6,\\&quot;minValues\\&quot;:{\\&quot;id\\&quot;:1,\\&quot;name\\&quot;:\\&quot;Adam\\&quot;,\\&quot;salary\\&quot;:2999.3},\\&quot;maxValues\\&quot;:{\\&quot;id\\&quot;:6,\\&quot;name\\&quot;:\\&quot;Thomas\\&quot;,\\&quot;salary\\&quot;:350100.0},\\&quot;nullCount\\&quot;:{\\&quot;id\\&quot;:0,\\&quot;name\\&quot;:0,\\&quot;salary\\&quot;:0}}&quot;,&quot;tags&quot;:{&quot;MAX_INSERTION_TIME&quot;:&quot;1705769098000000&quot;,&quot;INSERTION_TIME&quot;:&quot;1705769098000000&quot;,&quot;MIN_INSERTION_TIME&quot;:&quot;1705769098000000&quot;,&quot;OPTIMIZE_TARGET_SIZE&quot;:&quot;268435456&quot;}}}\n\n</div>",
       "datasetInfos": [],
       "metadata": {
        "isDbfsCommandResult": false
       },
       "removedWidgets": [],
       "type": "html"
      }
     },
     "output_type": "display_data"
    }
   ],
   "source": [
    "%fs \n",
    "head 'dbfs:/user/hive/warehouse/employees/_delta_log/00000000000000000003.json'"
   ]
  }
 ],
 "metadata": {
  "application/vnd.databricks.v1+notebook": {
   "dashboards": [],
   "language": "python",
   "notebookMetadata": {
    "mostRecentlyExecutedCommandWithImplicitDF": {
     "commandId": 2923202399434391,
     "dataframes": [
      "_sqldf"
     ]
    },
    "pythonIndentUnit": 4
   },
   "notebookName": "Understanding Delta Tables",
   "widgets": {}
  }
 },
 "nbformat": 4,
 "nbformat_minor": 0
}

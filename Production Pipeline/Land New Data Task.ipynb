{
 "cells": [
  {
   "cell_type": "code",
   "execution_count": 0,
   "metadata": {
    "application/vnd.databricks.v1+cell": {
     "cellMetadata": {
      "byteLimit": 2048000,
      "rowLimit": 10000
     },
     "inputWidgets": {},
     "nuid": "3ae02ee9-1c20-42bc-a9ab-291e3700ffd8",
     "showTitle": false,
     "title": ""
    }
   },
   "outputs": [],
   "source": [
    "%run ./includes/Copy-Datasets"
   ]
  },
  {
   "cell_type": "code",
   "execution_count": 0,
   "metadata": {
    "application/vnd.databricks.v1+cell": {
     "cellMetadata": {
      "byteLimit": 2048000,
      "rowLimit": 10000
     },
     "inputWidgets": {},
     "nuid": "d994a276-78ca-4ccb-a237-8762b387ca84",
     "showTitle": false,
     "title": ""
    }
   },
   "outputs": [
    {
     "output_type": "stream",
     "name": "stdout",
     "output_type": "stream",
     "text": [
      "Loading 02.json orders file to the bookstore dataset\nLoading 02.json books file to the bookstore dataset\n"
     ]
    }
   ],
   "source": [
    "load_new_json_data()"
   ]
  },
  {
   "cell_type": "code",
   "execution_count": 0,
   "metadata": {
    "application/vnd.databricks.v1+cell": {
     "cellMetadata": {
      "byteLimit": 2048000,
      "implicitDf": true,
      "rowLimit": 10000
     },
     "inputWidgets": {},
     "nuid": "ae3a217e-dbdf-4662-8b46-a5cf23701862",
     "showTitle": false,
     "title": ""
    }
   },
   "outputs": [
    {
     "output_type": "display_data",
     "data": {
      "text/html": [
       "<style scoped>\n",
       "  .table-result-container {\n",
       "    max-height: 300px;\n",
       "    overflow: auto;\n",
       "  }\n",
       "  table, th, td {\n",
       "    border: 1px solid black;\n",
       "    border-collapse: collapse;\n",
       "  }\n",
       "  th, td {\n",
       "    padding: 5px;\n",
       "  }\n",
       "  th {\n",
       "    text-align: left;\n",
       "  }\n",
       "</style><div class='table-result-container'><table class='table-result'><thead style='background-color: white'><tr><th>author</th><th>book_id</th><th>category</th><th>price</th><th>row_status</th><th>row_time</th><th>title</th></tr></thead><tbody><tr><td>Addy Osmani</td><td>B02</td><td>Computer Science</td><td>40</td><td>UPDATE</td><td>2022-11-05T18:17:50.236+01:00</td><td>Learning JavaScript Design Patterns</td></tr><tr><td>Tariq Rashid</td><td>B03</td><td>Computer Science</td><td>30</td><td>UPDATE</td><td>2022-11-05T18:11:33.507+01:00</td><td>Make Your Own Neural Network</td></tr><tr><td>null</td><td>B01</td><td>null</td><td>null</td><td>DELETE</td><td>2022-11-05T18:17:50.236+01:00</td><td>null</td></tr><tr><td>Mark W. Spong</td><td>B04</td><td>Computer Science</td><td>20</td><td>INSERT</td><td>2022-11-05T18:12:05.419+01:00</td><td>Robot Dynamics and Control</td></tr><tr><td>Luciano Ramalho</td><td>B05</td><td>Computer Science</td><td>47</td><td>INSERT</td><td>2022-11-05T18:12:05.419+01:00</td><td>Fluent Python</td></tr><tr><td>François Chollet</td><td>B06</td><td>Computer Science</td><td>22</td><td>INSERT</td><td>2022-11-05T18:12:05.419+01:00</td><td>Deep Learning with Python</td></tr></tbody></table></div>"
      ]
     },
     "metadata": {
      "application/vnd.databricks.v1+output": {
       "addedWidgets": {},
       "aggData": [],
       "aggError": "",
       "aggOverflow": false,
       "aggSchema": [],
       "aggSeriesLimitReached": false,
       "aggType": "",
       "arguments": {},
       "columnCustomDisplayInfos": {},
       "data": [
        [
         "Addy Osmani",
         "B02",
         "Computer Science",
         "40",
         "UPDATE",
         "2022-11-05T18:17:50.236+01:00",
         "Learning JavaScript Design Patterns"
        ],
        [
         "Tariq Rashid",
         "B03",
         "Computer Science",
         "30",
         "UPDATE",
         "2022-11-05T18:11:33.507+01:00",
         "Make Your Own Neural Network"
        ],
        [
         null,
         "B01",
         null,
         null,
         "DELETE",
         "2022-11-05T18:17:50.236+01:00",
         null
        ],
        [
         "Mark W. Spong",
         "B04",
         "Computer Science",
         "20",
         "INSERT",
         "2022-11-05T18:12:05.419+01:00",
         "Robot Dynamics and Control"
        ],
        [
         "Luciano Ramalho",
         "B05",
         "Computer Science",
         "47",
         "INSERT",
         "2022-11-05T18:12:05.419+01:00",
         "Fluent Python"
        ],
        [
         "François Chollet",
         "B06",
         "Computer Science",
         "22",
         "INSERT",
         "2022-11-05T18:12:05.419+01:00",
         "Deep Learning with Python"
        ]
       ],
       "datasetInfos": [],
       "dbfsResultPath": null,
       "isJsonSchema": true,
       "metadata": {},
       "overflow": false,
       "plotOptions": {
        "customPlotOptions": {},
        "displayType": "table",
        "pivotAggregation": null,
        "pivotColumns": null,
        "xColumns": null,
        "yColumns": null
       },
       "removedWidgets": [],
       "schema": [
        {
         "metadata": "{}",
         "name": "author",
         "type": "\"string\""
        },
        {
         "metadata": "{}",
         "name": "book_id",
         "type": "\"string\""
        },
        {
         "metadata": "{}",
         "name": "category",
         "type": "\"string\""
        },
        {
         "metadata": "{}",
         "name": "price",
         "type": "\"string\""
        },
        {
         "metadata": "{}",
         "name": "row_status",
         "type": "\"string\""
        },
        {
         "metadata": "{}",
         "name": "row_time",
         "type": "\"string\""
        },
        {
         "metadata": "{}",
         "name": "title",
         "type": "\"string\""
        }
       ],
       "type": "table"
      }
     },
     "output_type": "display_data"
    }
   ],
   "source": [
    "%sql\n",
    "select * from json.`${dataset.bookstore}/books-cdc/02.json`"
   ]
  }
 ],
 "metadata": {
  "application/vnd.databricks.v1+notebook": {
   "dashboards": [],
   "language": "python",
   "notebookMetadata": {
    "mostRecentlyExecutedCommandWithImplicitDF": {
     "commandId": 1415010210644087,
     "dataframes": [
      "_sqldf"
     ]
    },
    "pythonIndentUnit": 4
   },
   "notebookName": "Land New Data Task",
   "widgets": {}
  }
 },
 "nbformat": 4,
 "nbformat_minor": 0
}
